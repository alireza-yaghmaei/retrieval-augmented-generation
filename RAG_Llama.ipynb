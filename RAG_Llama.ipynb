{
  "cells": [
    {
      "cell_type": "markdown",
      "metadata": {
        "id": "ulkKD2NAUERA"
      },
      "source": [
        "## Requirements"
      ]
    },
    {
      "cell_type": "code",
      "execution_count": null,
      "metadata": {
        "id": "avI3QFQtZt6S"
      },
      "outputs": [],
      "source": [
        "!pip install langchain==0.2.5 langchain-community==0.2.5 langchain-huggingface==0.0.3 chromadb==0.5.3 transformers==4.41.2"
      ]
    },
    {
      "cell_type": "markdown",
      "metadata": {
        "id": "Ca8cXJKwUblO"
      },
      "source": [
        "## Import Modules"
      ]
    },
    {
      "cell_type": "code",
      "execution_count": 5,
      "metadata": {
        "id": "QzRfGv1nUfN3"
      },
      "outputs": [],
      "source": [
        "import os\n",
        "import getpass\n",
        "import matplotlib.pyplot as plt\n",
        "\n",
        "from langchain import PromptTemplate\n",
        "from langchain.chains import RetrievalQA\n",
        "from langchain.text_splitter import CharacterTextSplitter\n",
        "from langchain.vectorstores import Chroma\n",
        "from langchain_community.document_loaders import DirectoryLoader, TextLoader\n",
        "from langchain_huggingface import HuggingFaceEndpoint\n",
        "from langchain_huggingface.embeddings import HuggingFaceEmbeddings"
      ]
    },
    {
      "cell_type": "markdown",
      "metadata": {
        "id": "0-FKg8mEUtbQ"
      },
      "source": [
        "## Show document"
      ]
    },
    {
      "cell_type": "code",
      "execution_count": null,
      "metadata": {
        "colab": {
          "base_uri": "https://localhost:8080/",
          "height": 196
        },
        "id": "B521_jOvUwDS",
        "outputId": "ada04e74-0939-43a1-d609-8536a88b5403"
      },
      "outputs": [],
      "source": [
        "with open('data.txt', 'r') as file:\n",
        "    file_content = file.read()\n",
        "print(file_content)"
      ]
    },
    {
      "cell_type": "markdown",
      "metadata": {
        "id": "22NY02k1U0cz"
      },
      "source": [
        "## Hugging-Face API Token"
      ]
    },
    {
      "cell_type": "code",
      "execution_count": 7,
      "metadata": {
        "id": "YjbRdUHiU3u6"
      },
      "outputs": [],
      "source": [
        "from google.colab import userdata\n",
        "os.environ[\"HUGGINGFACEHUB_API_TOKEN\"] = userdata.get('HF_TOKEN')"
      ]
    },
    {
      "cell_type": "markdown",
      "metadata": {
        "id": "g1T5CNGKVE3T"
      },
      "source": [
        "# Prompt and Template"
      ]
    },
    {
      "cell_type": "code",
      "execution_count": 8,
      "metadata": {
        "id": "_s50nt7yVJCN"
      },
      "outputs": [],
      "source": [
        "prompt_template = \"\"\"Use the following pieces of context to answer the question at the end. If the context is not relevant,\n",
        "      please don't answer the question using your own knowledge. Just say \"I don't know\".\n",
        "\n",
        "      {context}\n",
        "\n",
        "      Question: {question}\n",
        "\"\"\"\n",
        "\n",
        "PROMPT = PromptTemplate(\n",
        "    template=prompt_template,\n",
        "    input_variables=[\"context\", \"question\"]\n",
        "    )\n",
        "\n",
        "chain_type_kwargs = {\"prompt\": PROMPT}  # chain_type_kwargs will be pass on to Retreival QA chain"
      ]
    },
    {
      "cell_type": "markdown",
      "metadata": {
        "id": "V_JPblKgVlwB"
      },
      "source": [
        "# Split Documents"
      ]
    },
    {
      "cell_type": "code",
      "execution_count": null,
      "metadata": {
        "colab": {
          "base_uri": "https://localhost:8080/",
          "height": 428
        },
        "id": "M8nZtSpHVszz",
        "outputId": "40e1ca3a-88a1-44cd-96aa-a705aee1a413"
      },
      "outputs": [],
      "source": [
        "loader = TextLoader('data.txt')\n",
        "documents = loader.load()\n",
        "text_splitter = CharacterTextSplitter(chunk_size=50, chunk_overlap=20)    # chunk_overlap : size of overlaps between 2 chunks\n",
        "texts = text_splitter.split_documents(documents)"
      ]
    },
    {
      "cell_type": "markdown",
      "metadata": {
        "id": "yl36HfjkVqiJ"
      },
      "source": [
        "# Embeddings"
      ]
    },
    {
      "cell_type": "code",
      "execution_count": null,
      "metadata": {
        "id": "vTvA2Am0cEha"
      },
      "outputs": [],
      "source": [
        "# Use an embedding in hugging-face\n",
        "embeddings = HuggingFaceEmbeddings(model_name=\"sentence-transformers/all-mpnet-base-v2\")"
      ]
    },
    {
      "cell_type": "markdown",
      "metadata": {
        "id": "HGyH0AGrVVWC"
      },
      "source": [
        "# Generate Retriever"
      ]
    },
    {
      "cell_type": "code",
      "execution_count": 10,
      "metadata": {
        "id": "W_g7qwZIVXr1"
      },
      "outputs": [],
      "source": [
        "# create a Chroma vectorstore\n",
        "db = Chroma.from_documents(texts, embeddings)\n",
        "\n",
        "# search_type = similarity / mmr\n",
        "retriever = db.as_retriever(search_type=\"similarity\")"
      ]
    },
    {
      "cell_type": "code",
      "execution_count": 11,
      "metadata": {
        "colab": {
          "base_uri": "https://localhost:8080/"
        },
        "id": "--skXeIrKN3X",
        "outputId": "35e50d34-90b3-4ca6-8e52-b7e64992947e"
      },
      "outputs": [
        {
          "data": {
            "text/plain": [
              "HuggingFaceEmbeddings(client=SentenceTransformer(\n",
              "  (0): Transformer({'max_seq_length': 384, 'do_lower_case': False}) with Transformer model: MPNetModel \n",
              "  (1): Pooling({'word_embedding_dimension': 768, 'pooling_mode_cls_token': False, 'pooling_mode_mean_tokens': True, 'pooling_mode_max_tokens': False, 'pooling_mode_mean_sqrt_len_tokens': False, 'pooling_mode_weightedmean_tokens': False, 'pooling_mode_lasttoken': False, 'include_prompt': True})\n",
              "  (2): Normalize()\n",
              "), model_name='sentence-transformers/all-mpnet-base-v2', cache_folder=None, model_kwargs={}, encode_kwargs={}, multi_process=False, show_progress=False)"
            ]
          },
          "execution_count": 11,
          "metadata": {},
          "output_type": "execute_result"
        }
      ],
      "source": [
        "db.embeddings"
      ]
    },
    {
      "cell_type": "markdown",
      "metadata": {
        "id": "gt_4gMv1eVYD"
      },
      "source": [
        "# Model"
      ]
    },
    {
      "cell_type": "code",
      "execution_count": 17,
      "metadata": {
        "colab": {
          "base_uri": "https://localhost:8080/"
        },
        "id": "WKDNuagUdfz0",
        "outputId": "37f883a3-df00-4210-9012-302363667c4b"
      },
      "outputs": [
        {
          "name": "stdout",
          "output_type": "stream",
          "text": [
            "The token has not been saved to the git credentials helper. Pass `add_to_git_credential=True` in this function directly or `--add-to-git-credential` if using via `huggingface-cli` if you want to set the git credential as well.\n",
            "Token is valid (permission: write).\n",
            "Your token has been saved to /root/.cache/huggingface/token\n",
            "Login successful\n"
          ]
        }
      ],
      "source": [
        "# model using hugging-face\n",
        "llm_llama = HuggingFaceEndpoint(\n",
        "    repo_id = \"NousResearch/Meta-Llama-3-8B\",\n",
        "    temperature = 0.5,\n",
        "    max_new_tokens = 64,\n",
        "    )"
      ]
    },
    {
      "cell_type": "code",
      "execution_count": 18,
      "metadata": {
        "id": "2soXnyGveMJK"
      },
      "outputs": [],
      "source": [
        "# QA retrieval\n",
        "qa_llama = RetrievalQA.from_chain_type(\n",
        "    llm=llm_llama,\n",
        "    chain_type=\"stuff\",\n",
        "    retriever=retriever,\n",
        "    chain_type_kwargs=chain_type_kwargs\n",
        "    )"
      ]
    },
    {
      "cell_type": "markdown",
      "metadata": {
        "id": "XeuxPE4XeZra"
      },
      "source": [
        "# Enter and run query"
      ]
    },
    {
      "cell_type": "code",
      "execution_count": null,
      "metadata": {
        "id": "M3TMSeDwcaz8"
      },
      "outputs": [],
      "source": [
        "question = input(\"your question: \")\n",
        "result = qa_llama.invoke(question)\n",
        "print(result)"
      ]
    },
    {
      "cell_type": "code",
      "execution_count": null,
      "metadata": {
        "id": "Jqbe-MzSezpj"
      },
      "outputs": [],
      "source": []
    }
  ],
  "metadata": {
    "colab": {
      "provenance": []
    },
    "kernelspec": {
      "display_name": "Python 3",
      "name": "python3"
    },
    "language_info": {
      "name": "python"
    }
  },
  "nbformat": 4,
  "nbformat_minor": 0
}
